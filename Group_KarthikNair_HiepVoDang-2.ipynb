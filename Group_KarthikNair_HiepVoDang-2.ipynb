{
 "cells": [
  {
   "cell_type": "markdown",
   "id": "8b71967d",
   "metadata": {},
   "source": [
    "# Lending Club Case Study - Exploratory Data Analysis\n",
    "\n",
    "**Group Members:**\n",
    "Karthik M Nair\n",
    "Hiep V Dang\n",
    "\n",
    "## **Project Brief** \n",
    "\n",
    "Solving this assignment will give you an idea about how real business problems are solved using EDA. In this case study, apart from applying the techniques you have learnt in EDA, you will also develop a basic understanding of risk analytics in banking and financial services and understand how data is used to minimise the risk of losing money while lending to customers.\n",
    "\n",
    "## **Business Understanding** \n",
    "You work for a consumer finance company which specialises in lending various types of loans to urban customers. When the company receives a loan application, the company has to make a decision for loan approval based on the applicant’s profile. Two types of risks are associated with the bank’s decision:<br>\n",
    "If the applicant is likely to repay the loan, then not approving the loan results in a loss of business to the company.<br>\n",
    "If the applicant is not likely to repay the loan, i.e. he/she is likely to default, then approving the loan may lead to a financial loss for the company.<br>\n",
    "The data given below contains the information about past loan applicants and whether they ‘defaulted’ or not. The aim is to identify patterns which indicate if a person is likely to default, which may be used for taking actions such as denying the loan, reducing the amount of loan, lending (to risky applicants) at a higher interest rate, etc.<br>\n",
    "In this case study, you will use EDA to understand how **consumer attributes** and **loan attributes** influence the tendency of default."
   ]
  },
  {
   "cell_type": "markdown",
   "id": "f38b2f81",
   "metadata": {},
   "source": [
    "When a person applies for a loan, there are **two types of decisions** that could be taken by the company:<br><br>\n",
    "  **1. Loan accepted:** If the company approves the loan, there are 3 possible scenarios described below:<br>\n",
    "       **Fully paid:** Applicant has fully paid the loan (the principal and the interest rate)<br>\n",
    "       **Current:** Applicant is in the process of paying the instalments, i.e. the tenure of the loan is not yet completed. These candidates are not labelled as 'defaulted'.<br>\n",
    "       **Charged-off:** Applicant has not paid the instalments in due time for a long period of time, i.e. he/she has defaulted on the loan<br><br>\n",
    "  **2. Loan rejected:** The company had rejected the loan (because the candidate does not meet their requirements etc.). Since the loan was rejected, there is no transactional history of those applicants with the company and so this data is not available with the company (and thus in this dataset)<br>"
   ]
  },
  {
   "cell_type": "markdown",
   "id": "5b65b014",
   "metadata": {},
   "source": [
    "## **Business Objective**\n",
    "\n",
    "This company is the largest online loan marketplace, facilitating personal loans, business loans, and financing of medical procedures. Borrowers can easily access lower interest rate loans through a fast online interface.<br>\n",
    "Like most other lending companies, lending loans to ‘risky’ applicants is the largest source of financial loss (called credit loss). The credit loss is the amount of money lost by the lender when the borrower refuses to pay or runs away with the money owed. In other words, borrowers who **default** cause the largest amount of loss to the lenders. In this case, the customers labelled as 'charged-off' are the 'defaulters'.\n",
    "\n",
    "If one is able to identify these risky loan applicants, then such loans can be reduced thereby cutting down the amount of credit loss. Identification of such applicants using EDA is the aim of this case study.<br>\n",
    "In other words, the company wants to understand the **driving factors (or driver variables)** behind loan default, i.e. the variables which are strong indicators of default. The company can utilise this knowledge for its portfolio and risk assessment."
   ]
  },
  {
   "cell_type": "markdown",
   "id": "f994ae45",
   "metadata": {},
   "source": [
    "## **Import Packages**"
   ]
  },
  {
   "cell_type": "code",
   "execution_count": 1,
   "id": "cbb4394a",
   "metadata": {},
   "outputs": [],
   "source": [
    "import datetime as dt\n",
    "import numpy as np\n",
    "import pandas as pd\n",
    "import seaborn as sns\n",
    "pd.set_option('display.max_rows', 130, 'display.max_columns', 130)\n",
    "pd.options.display.float_format = '{:,.2f}'.format"
   ]
  },
  {
   "cell_type": "markdown",
   "id": "ff944bcf",
   "metadata": {},
   "source": [
    "## **Load Raw Data**"
   ]
  },
  {
   "cell_type": "code",
   "execution_count": 2,
   "id": "73871a30",
   "metadata": {},
   "outputs": [],
   "source": [
    "# Load Raw Data\n",
    "data = pd.read_csv(\n",
    "    'loan.csv',\n",
    "    low_memory=False,\n",
    "    index_col='id',\n",
    "    dtype={\n",
    "        'id':object, \n",
    "        'member_id': object\n",
    "    }\n",
    ")"
   ]
  },
  {
   "cell_type": "markdown",
   "id": "e5ccfb11",
   "metadata": {},
   "source": [
    "## **Clean Data**"
   ]
  },
  {
   "cell_type": "markdown",
   "id": "c1467ffc",
   "metadata": {},
   "source": [
    "### Drop empty columns"
   ]
  },
  {
   "cell_type": "code",
   "execution_count": 3,
   "id": "a39226f9",
   "metadata": {},
   "outputs": [],
   "source": [
    "# Drop empty columns\n",
    "data.dropna(how='all',axis=1,inplace=True)"
   ]
  },
  {
   "cell_type": "markdown",
   "id": "d92cea36",
   "metadata": {},
   "source": [
    "### Drop invariant variables"
   ]
  },
  {
   "cell_type": "code",
   "execution_count": 4,
   "id": "1a0c76bf",
   "metadata": {},
   "outputs": [],
   "source": [
    "# Drop invariant variables\n",
    "data = data[[col for col in data.columns if len(data[col].unique()) > 1]]"
   ]
  },
  {
   "cell_type": "markdown",
   "id": "8269d6e3",
   "metadata": {},
   "source": [
    "### Drop irrelevant variables"
   ]
  },
  {
   "cell_type": "markdown",
   "id": "cad9990c",
   "metadata": {},
   "source": [
    "There are some variables that are fundamentally irrelevant to the ability of payback. Hence, we can use our business judgements to safely remove these data"
   ]
  },
  {
   "cell_type": "code",
   "execution_count": 5,
   "id": "24a2ced4",
   "metadata": {},
   "outputs": [],
   "source": [
    "# Drop irrelevant variables\n",
    "data.drop(\n",
    "    labels=[\n",
    "        'member_id',\n",
    "        'zip_code',\n",
    "        'url',\n",
    "        'title',\n",
    "        'desc',\n",
    "        'tax_liens',\n",
    "        'emp_title',\n",
    "        'chargeoff_within_12_mths',\n",
    "        'collections_12_mths_ex_med',\n",
    "    ],\n",
    "    axis=1,\n",
    "    inplace=True\n",
    ")"
   ]
  },
  {
   "cell_type": "markdown",
   "id": "8910869a",
   "metadata": {},
   "source": [
    "### Drop columns that have too many missing values"
   ]
  },
  {
   "cell_type": "code",
   "execution_count": 6,
   "id": "7d8f6162",
   "metadata": {},
   "outputs": [],
   "source": [
    "# Drop columns that have significant in number of missing values\n",
    "for col in data.columns:\n",
    "    missing_values = data[col].isna().sum()\n",
    "    if missing_values / data.shape[0] >= 0.1:\n",
    "        data.drop(col, axis=1, inplace=True)"
   ]
  },
  {
   "cell_type": "markdown",
   "id": "c20a0223",
   "metadata": {},
   "source": [
    "### Drop row that have too many missing values"
   ]
  },
  {
   "cell_type": "code",
   "execution_count": 7,
   "id": "ac159127",
   "metadata": {},
   "outputs": [],
   "source": [
    "# Drop rows that have significant in number of missing values\n",
    "for row in data.index:\n",
    "    missing_values = data.loc[row].isna().sum()\n",
    "    if missing_values / data.shape[1] >= 0.1:\n",
    "        data.drop(row, axis=1, inplace=True)"
   ]
  },
  {
   "cell_type": "markdown",
   "id": "4c9f6bd4",
   "metadata": {},
   "source": [
    "### Convert percentage strings to decimal numbers"
   ]
  },
  {
   "cell_type": "markdown",
   "id": "6006b909",
   "metadata": {},
   "source": [
    "Data read from .csv files could be parsed as strings rather than implying data type. For example, 20.50% could be parsed as \"20.50%\" (a string) instead of actual percentage. In order to conduct the analysis, we must convert these strings to floating numbers"
   ]
  },
  {
   "cell_type": "code",
   "execution_count": 8,
   "id": "8332e4e4",
   "metadata": {},
   "outputs": [],
   "source": [
    "# Clean percentages: convert string to number\n",
    "def convert_pct_string(x):\n",
    "    if x == x: # If x is not NaN, it must be equal to itself\n",
    "        result = float(x.rstrip('%'))\n",
    "    else:\n",
    "        result = x\n",
    "    return result\n",
    "column_list = ['int_rate', 'revol_util']\n",
    "for col in column_list:\n",
    "    data[col] = data[col].map(convert_pct_string)"
   ]
  },
  {
   "cell_type": "markdown",
   "id": "ba3d1a09",
   "metadata": {},
   "source": [
    "### Convert date strings to dates"
   ]
  },
  {
   "cell_type": "markdown",
   "id": "516cf47c",
   "metadata": {},
   "source": [
    "We also need to convert date strings to dates"
   ]
  },
  {
   "cell_type": "code",
   "execution_count": 9,
   "id": "7c4f43bd",
   "metadata": {},
   "outputs": [],
   "source": [
    "# Clean dates: convert string to date\n",
    "def convert_date_string(x):\n",
    "    if x == x: # If x is not NaN, it must be equal to itself\n",
    "        result = dt.datetime.strptime(x,'%b-%y').date()\n",
    "    else:\n",
    "        result = x\n",
    "    return result\n",
    "column_list = ['issue_d', 'earliest_cr_line', 'last_pymnt_d', 'last_credit_pull_d']\n",
    "for col in column_list:\n",
    "    data[col] = data[col].map(convert_date_string)"
   ]
  },
  {
   "cell_type": "markdown",
   "id": "cf724671",
   "metadata": {},
   "source": [
    "## Exploratory Data Analysis"
   ]
  },
  {
   "cell_type": "markdown",
   "id": "b42cbae0",
   "metadata": {},
   "source": [
    "Definition: Througout our analysis, **Default Ratio (%)** on each segment is calculated as the ratio of borrowers in a particular segment who actually defaulted on the total number of borrowers in that segment."
   ]
  },
  {
   "cell_type": "markdown",
   "id": "8c60291d",
   "metadata": {},
   "source": [
    "### Analysis on Grade & Default Risk"
   ]
  },
  {
   "cell_type": "markdown",
   "id": "c8733d0a",
   "metadata": {},
   "source": [
    "Our very first analysis is to look at the grade assigned to each loan's application. Fundamentally speaking, loan's grade reflects how risky a loan is and how likely it could be charged off. Here, we would like to see if loans of better grades was actually safer than those of worse grades."
   ]
  },
  {
   "cell_type": "code",
   "execution_count": 10,
   "id": "919444e1",
   "metadata": {},
   "outputs": [
    {
     "data": {
      "text/plain": [
       "<seaborn.axisgrid.FacetGrid at 0x7faf833cdca0>"
      ]
     },
     "execution_count": 10,
     "metadata": {},
     "output_type": "execute_result"
    },
    {
     "data": {
      "image/png": "[encoded data removed]",
      "text/plain": [
       "<Figure size 360x360 with 1 Axes>"
      ]
     },
     "metadata": {
      "needs_background": "light"
     },
     "output_type": "display_data"
    }
   ],
   "source": [
    "# Calculate Default Ratio by Grade group\n",
    "default_ratio_by_grade = data.groupby(['grade','loan_status'])['loan_status'].count().unstack(level=1)\n",
    "default_ratio_by_grade.fillna(0,inplace=True)\n",
    "borrowers_by_grade = default_ratio_by_grade.sum(axis=1)\n",
    "default_ratio_by_grade['default_ratio'] = default_ratio_by_grade['Charged Off'] / borrowers_by_grade * 100\n",
    "default_ratio_by_grade = default_ratio_by_grade[['default_ratio']]\n",
    "default_ratio_by_grade.reset_index(inplace=True)\n",
    "\n",
    "# Graph\n",
    "g = sns.catplot(data=default_ratio_by_grade,kind='bar',x='grade',y='default_ratio',palette='dark')\n",
    "g.set_axis_labels('LC Assigned Loan Grade','Default Ratio (%)')"
   ]
  },
  {
   "cell_type": "markdown",
   "id": "7b569c12",
   "metadata": {},
   "source": [
    "As can be seen, default ratio consistently increases from best grades to worst grades. It confirms that **we incur greater risk of default with loans of bad grades**. Next, we will go further by breaking down grades into subgrades"
   ]
  },
  {
   "cell_type": "markdown",
   "id": "0fbbf955",
   "metadata": {},
   "source": [
    "### Analysis on Sub-grade & Default Risk"
   ]
  },
  {
   "cell_type": "markdown",
   "id": "69e0b2a0",
   "metadata": {},
   "source": [
    "Here, we will take a further step to see what happens between subgrades"
   ]
  },
  {
   "cell_type": "code",
   "execution_count": 11,
   "id": "0f1cf098",
   "metadata": {},
   "outputs": [
    {
     "data": {
      "text/plain": [
       "<seaborn.axisgrid.FacetGrid at 0x7faf86e883a0>"
      ]
     },
     "execution_count": 11,
     "metadata": {},
     "output_type": "execute_result"
    },
    {
     "data": {
      "image/png": "[encoded data removed]",
      "text/plain": [
       "<Figure size 864x576 with 1 Axes>"
      ]
     },
     "metadata": {
      "needs_background": "light"
     },
     "output_type": "display_data"
    }
   ],
   "source": [
    "# Calculate Default Ratio by Sub-grade group\n",
    "default_ratio_by_subgrade = data.groupby(['sub_grade','loan_status'])['loan_status'].count().unstack(level=1)\n",
    "default_ratio_by_subgrade.fillna(0,inplace=True)\n",
    "borrowers_by_subgrade = default_ratio_by_subgrade.sum(axis=1)\n",
    "default_ratio_by_subgrade['default_ratio'] = default_ratio_by_subgrade['Charged Off'] / borrowers_by_subgrade * 100\n",
    "default_ratio_by_subgrade = default_ratio_by_subgrade[['default_ratio']]\n",
    "default_ratio_by_subgrade.reset_index(inplace=True)\n",
    "\n",
    "# Graph\n",
    "g = sns.catplot(\n",
    "    data=default_ratio_by_subgrade,\n",
    "    kind='bar',\n",
    "    x='sub_grade',\n",
    "    y='default_ratio',\n",
    "    palette='dark',\n",
    "    height=8, \n",
    "    aspect=12/8,\n",
    "    \n",
    ")\n",
    "g.set_axis_labels('LC Assigned Loan Sub-Grade','Default Ratio (%)')"
   ]
  },
  {
   "cell_type": "markdown",
   "id": "0aec9e49",
   "metadata": {},
   "source": [
    "As demonstrated above, **the relationship between assigned subgrades and default ratio remains consistent from subgrades A1 to F5**. The only exception is seen among subgrades in grade G. There is no clear evidence of the trend, this could be explained by there are only few borrowers classified into these subgrades; hence, the default ratio could varies due to small sample size."
   ]
  },
  {
   "cell_type": "markdown",
   "id": "ea37b5d7",
   "metadata": {},
   "source": [
    "### Analysis on Loan Term & Default Risk"
   ]
  },
  {
   "cell_type": "markdown",
   "id": "cec1e17f",
   "metadata": {},
   "source": [
    "This analysis answers the question whether longer-term an shorter-term loans are invariant with respect to default ratio"
   ]
  },
  {
   "cell_type": "code",
   "execution_count": 12,
   "id": "7ea7942f",
   "metadata": {},
   "outputs": [
    {
     "data": {
      "text/plain": [
       "<seaborn.axisgrid.FacetGrid at 0x7faf382b48b0>"
      ]
     },
     "execution_count": 12,
     "metadata": {},
     "output_type": "execute_result"
    },
    {
     "data": {
      "image/png": "[encoded data removed]",
      "text/plain": [
       "<Figure size 360x360 with 1 Axes>"
      ]
     },
     "metadata": {
      "needs_background": "light"
     },
     "output_type": "display_data"
    }
   ],
   "source": [
    "# Calculate Default Ratio by Term\n",
    "default_ratio_by_term = data.groupby(['term','loan_status'])['loan_status'].count().unstack(level=1)\n",
    "default_ratio_by_term.fillna(0,inplace=True)\n",
    "borrowers_by_term = default_ratio_by_term.sum(axis=1)\n",
    "default_ratio_by_term['default_ratio'] = default_ratio_by_term['Charged Off'] / borrowers_by_term * 100\n",
    "default_ratio_by_term = default_ratio_by_term[['default_ratio']]\n",
    "default_ratio_by_term.reset_index(inplace=True)\n",
    "\n",
    "# Graph\n",
    "g = sns.catplot(data=default_ratio_by_term,kind='bar',x='term',y='default_ratio',palette='dark')\n",
    "g.set_axis_labels('Number of Monthly Payments','Default Ratio (%)')"
   ]
  },
  {
   "cell_type": "markdown",
   "id": "79477139",
   "metadata": {},
   "source": [
    "Loans with 36 monthly payments are greatly safer than loans with 60 monthly payments. In another word, **shorter term implies less default risk and vice versa**"
   ]
  },
  {
   "cell_type": "markdown",
   "id": "b51cd529",
   "metadata": {},
   "source": [
    "### Analysis on Income Level & Default Risk"
   ]
  },
  {
   "cell_type": "markdown",
   "id": "3dc2485c",
   "metadata": {},
   "source": [
    "In this analysis, we divide the borrowers into 4 groups corresponding to their income level:\n",
    "\n",
    "1. Below 25th percentile: income_level = 'low'\n",
    "2. From 25th percentile to 50th percentile: income_level = 'lower_medium'\n",
    "3. From 50th percentile to 75th percentile: income_level = 'upper_medium'\n",
    "4. Above 75th percentile: income_level = 'high'\n",
    "\n",
    "We first do the classification:"
   ]
  },
  {
   "cell_type": "code",
   "execution_count": 13,
   "id": "49ce81a3",
   "metadata": {},
   "outputs": [],
   "source": [
    "# Classify customers by income levels\n",
    "def income_classifier(income_series):\n",
    "    first_quartile = income_series.quantile(0.25)\n",
    "    second_quartile = income_series.quantile(0.5)\n",
    "    third_quartile = income_series.quantile(0.75)\n",
    "    result = income_series.copy()\n",
    "    result.loc[income_series < first_quartile] = 'low'\n",
    "    result.loc[(first_quartile <= income_series) & (income_series < second_quartile)] = 'lower_medium'\n",
    "    result.loc[(second_quartile <= income_series) & (income_series < third_quartile)] = 'upper_medium'\n",
    "    result.loc[third_quartile <= income_series] = 'high'\n",
    "    return result\n",
    "data['income_level'] = data['annual_inc'].transform(income_classifier)"
   ]
  },
  {
   "cell_type": "code",
   "execution_count": 14,
   "id": "1271f31e",
   "metadata": {},
   "outputs": [
    {
     "name": "stdout",
     "output_type": "stream",
     "text": [
      "emp_length    < 1 year  1 year  2 years  3 years  4 years  5 years  6 years  \\\n",
      "income_level                                                                  \n",
      "low              16.79   17.82    17.01    16.29    17.30    15.68    16.01   \n",
      "lower_medium     14.22   14.09    13.06    13.50    11.92    14.27    13.74   \n",
      "upper_medium     12.21   11.86    10.37    13.92    13.89    13.55    12.96   \n",
      "high             10.32   10.36     9.12     9.78    10.53    12.31    12.50   \n",
      "\n",
      "emp_length    7 years  8 years  9 years  10+ years  \n",
      "income_level                                        \n",
      "low             21.19    18.88    14.22      19.81  \n",
      "lower_medium    15.45    11.86    15.02      17.39  \n",
      "upper_medium    11.92    13.61    12.78      15.93  \n",
      "high            12.27    12.06     9.21      10.92  \n"
     ]
    }
   ],
   "source": [
    "# Calculate Default Ratio by Employment\n",
    "default_ratio_by_employment = data.groupby(['income_level','emp_length','loan_status'])['loan_status'].count().unstack(level=2)\n",
    "default_ratio_by_employment.fillna(0,inplace=True)\n",
    "borrowers_by_employment = default_ratio_by_employment.sum(axis=1)\n",
    "default_ratio_by_employment['default_ratio'] = default_ratio_by_employment['Charged Off'] / borrowers_by_employment * 100\n",
    "default_ratio_by_employment = default_ratio_by_employment['default_ratio']\n",
    "flattened_table = default_ratio_by_employment.reset_index() # create a flattened table for graphing\n",
    "default_ratio_by_employment = default_ratio_by_employment.unstack(level=1)\n",
    "default_ratio_by_employment = default_ratio_by_employment.loc[[\n",
    "    'low',\n",
    "    'lower_medium',\n",
    "    'upper_medium',\n",
    "    'high',\n",
    "]]\n",
    "default_ratio_by_employment = default_ratio_by_employment[[\n",
    "    '< 1 year',\n",
    "    '1 year',\n",
    "    '2 years',\n",
    "    '3 years',\n",
    "    '4 years',\n",
    "    '5 years',\n",
    "    '6 years',\n",
    "    '7 years',\n",
    "    '8 years',\n",
    "    '9 years',\n",
    "    '10+ years',\n",
    "]]\n",
    "\n",
    "print(default_ratio_by_employment)"
   ]
  },
  {
   "cell_type": "code",
   "execution_count": 15,
   "id": "d9e1797e",
   "metadata": {},
   "outputs": [
    {
     "data": {
      "text/plain": [
       "<seaborn.axisgrid.FacetGrid at 0x7faf38305d90>"
      ]
     },
     "execution_count": 15,
     "metadata": {},
     "output_type": "execute_result"
    },
    {
     "data": {
      "image/png": "[encoded data removed]",
      "text/plain": [
       "<Figure size 975.125x432 with 1 Axes>"
      ]
     },
     "metadata": {
      "needs_background": "light"
     },
     "output_type": "display_data"
    }
   ],
   "source": [
    "g = sns.catplot(\n",
    "    data=flattened_table,\n",
    "    kind='bar',\n",
    "    x='emp_length',\n",
    "    y='default_ratio',\n",
    "    hue='income_level',\n",
    "    palette='dark',\n",
    "    orient='v',\n",
    "    hue_order=[\n",
    "        'low',\n",
    "        'lower_medium',\n",
    "        'upper_medium',\n",
    "        'high',\n",
    "    ],\n",
    "    order=[\n",
    "        '< 1 year',\n",
    "        '1 year',\n",
    "        '2 years',\n",
    "        '3 years',\n",
    "        '4 years',\n",
    "        '5 years',\n",
    "        '6 years',\n",
    "        '7 years',\n",
    "        '8 years',\n",
    "        '9 years',\n",
    "        '10+ years',\n",
    "    ],\n",
    "    height=6, \n",
    "    aspect=12/6,\n",
    ")\n",
    "g.set_axis_labels('Years of Working','Default Ratio (%)')"
   ]
  },
  {
   "cell_type": "markdown",
   "id": "268a5ce9",
   "metadata": {},
   "source": [
    "**Year of working seems unable to tell if the borrower would go default or not**. But it was very clear that income level has a negative relationship with default ratio, **higher income implies less default risk and vice versa.**"
   ]
  },
  {
   "cell_type": "markdown",
   "id": "1fd6aaa9",
   "metadata": {},
   "source": [
    "### Analysis on Income Verification Status & Default Risk"
   ]
  },
  {
   "cell_type": "code",
   "execution_count": 16,
   "id": "e87e0868",
   "metadata": {},
   "outputs": [
    {
     "name": "stdout",
     "output_type": "stream",
     "text": [
      "income_level          low  lower_medium  upper_medium  high\n",
      "verification_status                                        \n",
      "Not Verified        15.96         12.41         11.50  8.94\n",
      "Verified            21.79         18.68         15.61 12.26\n",
      "Source Verified     17.97         14.26         14.37 10.17\n"
     ]
    }
   ],
   "source": [
    "# Calculate Default Ratio by Verification\n",
    "default_ratio_by_verification = data.groupby(['verification_status','income_level','loan_status'])['loan_status'].count().unstack(level=2)\n",
    "default_ratio_by_verification.fillna(0,inplace=True)\n",
    "borrowers_by_verification = default_ratio_by_verification.sum(axis=1)\n",
    "default_ratio_by_verification['default_ratio'] = default_ratio_by_verification['Charged Off'] / borrowers_by_verification * 100\n",
    "default_ratio_by_verification = default_ratio_by_verification['default_ratio']\n",
    "flattened_table = default_ratio_by_verification.reset_index() # create a flattened table for graphing\n",
    "default_ratio_by_verification = default_ratio_by_verification.unstack(level=1)\n",
    "default_ratio_by_verification = default_ratio_by_verification.loc[[\n",
    "    'Not Verified',\n",
    "    'Verified',\n",
    "    'Source Verified',\n",
    "]]\n",
    "default_ratio_by_verification =  default_ratio_by_verification[[\n",
    "    'low',\n",
    "    'lower_medium',\n",
    "    'upper_medium',\n",
    "    'high',\n",
    "]]\n",
    "\n",
    "print(default_ratio_by_verification)"
   ]
  },
  {
   "cell_type": "code",
   "execution_count": 17,
   "id": "e355ca29",
   "metadata": {},
   "outputs": [
    {
     "data": {
      "text/plain": [
       "<seaborn.axisgrid.FacetGrid at 0x7faf70b9fb50>"
      ]
     },
     "execution_count": 17,
     "metadata": {},
     "output_type": "execute_result"
    },
    {
     "data": {
      "image/png": "[encoded data removed]",
      "text/plain": [
       "<Figure size 687.125x432 with 1 Axes>"
      ]
     },
     "metadata": {
      "needs_background": "light"
     },
     "output_type": "display_data"
    }
   ],
   "source": [
    "g = sns.catplot(\n",
    "    data=flattened_table,\n",
    "    kind='bar',\n",
    "    x='verification_status',\n",
    "    y='default_ratio',\n",
    "    hue='income_level',\n",
    "    palette='dark',\n",
    "    orient='v',\n",
    "    hue_order=[\n",
    "        'low',\n",
    "        'lower_medium',\n",
    "        'upper_medium',\n",
    "        'high',\n",
    "    ],\n",
    "    order=[\n",
    "        'Not Verified',\n",
    "        'Verified',\n",
    "        'Source Verified',\n",
    "    ],\n",
    "    height=6, \n",
    "    aspect=8/6,\n",
    ")\n",
    "g.set_axis_labels('Income Verification Status','Default Ratio (%)')"
   ]
  },
  {
   "cell_type": "markdown",
   "id": "72f02994",
   "metadata": {},
   "source": [
    "The default risk consistently decrease from higher income levels to lower income levels are align with previous analysis. However, there seems no relationship between income verification status and default ratio. This result suggests that **income verification step seems unneccessary** in the loan application process."
   ]
  },
  {
   "cell_type": "markdown",
   "id": "a94c8bfb",
   "metadata": {},
   "source": [
    "### Analysis on Loan Purpose & Default Risk"
   ]
  },
  {
   "cell_type": "code",
   "execution_count": 18,
   "id": "4cc1e2bb",
   "metadata": {},
   "outputs": [
    {
     "data": {
      "text/plain": [
       "<seaborn.axisgrid.FacetGrid at 0x7faf83b1e6a0>"
      ]
     },
     "execution_count": 18,
     "metadata": {},
     "output_type": "execute_result"
    },
    {
     "data": {
      "image/png": "[encoded data removed]",
      "text/plain": [
       "<Figure size 360x360 with 1 Axes>"
      ]
     },
     "metadata": {
      "needs_background": "light"
     },
     "output_type": "display_data"
    }
   ],
   "source": [
    "# Calculate Default Ratio by Purpose\n",
    "default_ratio_by_purpose = data.groupby(['purpose','loan_status'])['loan_status'].count().unstack(level=1)\n",
    "default_ratio_by_purpose.fillna(0,inplace=True)\n",
    "borrowers_by_purpose = default_ratio_by_purpose.sum(axis=1)\n",
    "default_ratio_by_purpose['default_ratio'] = default_ratio_by_purpose['Charged Off'] / borrowers_by_purpose * 100\n",
    "default_ratio_by_purpose = default_ratio_by_purpose[['default_ratio']]\n",
    "default_ratio_by_purpose.reset_index(inplace=True)\n",
    "default_ratio_by_purpose.sort_values('default_ratio',inplace=True)\n",
    "\n",
    "# Graph\n",
    "g = sns.catplot(data=default_ratio_by_purpose,kind='bar',y='purpose',x='default_ratio',orient='h',palette='dark')\n",
    "g.set_axis_labels('Default Ratio (%)','Purpose Of The Loan')"
   ]
  },
  {
   "cell_type": "markdown",
   "id": "6eb1a77a",
   "metadata": {},
   "source": [
    "As we can see, **loans offered for financing small businesses are extremely risky with more than 25% chance of default**. Loans for renewable energy and education also exhibit great possibility of default. **Loans for weddings, major purchases, cars and credit card repayments are safest.**"
   ]
  },
  {
   "cell_type": "markdown",
   "id": "f0ede32f",
   "metadata": {},
   "source": [
    "### Analysis on Geography and Default Rate"
   ]
  },
  {
   "cell_type": "code",
   "execution_count": 20,
   "id": "a6aff0c6",
   "metadata": {},
   "outputs": [
    {
     "data": {
      "text/plain": [
       "<seaborn.axisgrid.FacetGrid at 0x7f95eb442730>"
      ]
     },
     "execution_count": 20,
     "metadata": {},
     "output_type": "execute_result"
    },
    {
     "data": {
      "image/png": "[encoded data removed]",
      "text/plain": [
       "<Figure size 432x864 with 1 Axes>"
      ]
     },
     "metadata": {
      "needs_background": "light"
     },
     "output_type": "display_data"
    }
   ],
   "source": [
    "# Calculate Default Ratio by state\n",
    "default_ratio_by_state = data.groupby(['addr_state','loan_status'])['loan_status'].count().unstack(level=1)\n",
    "default_ratio_by_state.fillna(0,inplace=True)\n",
    "borrowers_by_state = default_ratio_by_state.sum(axis=1)\n",
    "default_ratio_by_state['default_ratio'] = default_ratio_by_state['Charged Off'] / borrowers_by_state * 100\n",
    "default_ratio_by_state = default_ratio_by_state[['default_ratio']]\n",
    "default_ratio_by_state.reset_index(inplace=True)\n",
    "default_ratio_by_state.sort_values('default_ratio',inplace=True)\n",
    "\n",
    "# Graph\n",
    "g = sns.catplot(\n",
    "    data=default_ratio_by_state,\n",
    "    kind='bar',\n",
    "    y='addr_state',\n",
    "    x='default_ratio',\n",
    "    orient='h',\n",
    "    palette='dark',\n",
    "    height=12, \n",
    "    aspect=6/12,\n",
    ")\n",
    "g.set_axis_labels('Default Ratio (%)','State Of Borrowers')"
   ]
  },
  {
   "cell_type": "markdown",
   "id": "2d9cf319",
   "metadata": {},
   "source": [
    "**Loans offered in State NE are immensely risky with 60% chance of default. Loans in ME, IN, IA, WY, DC are considered safest**"
   ]
  }
 ],
 "metadata": {
  "kernelspec": {
   "display_name": "Python 3",
   "language": "python",
   "name": "python3"
  },
  "language_info": {
   "codemirror_mode": {
    "name": "ipython",
    "version": 3
   },
   "file_extension": ".py",
   "mimetype": "text/x-python",
   "name": "python",
   "nbconvert_exporter": "python",
   "pygments_lexer": "ipython3",
   "version": "3.8.8"
  }
 },
 "nbformat": 4,
 "nbformat_minor": 5
}
